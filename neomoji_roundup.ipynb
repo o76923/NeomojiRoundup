{
 "cells": [
  {
   "cell_type": "code",
   "execution_count": null,
   "metadata": {},
   "outputs": [],
   "source": [
    "import requests\n",
    "import json\n",
    "import re\n",
    "import pandas as pd\n",
    "import os\n",
    "from os.path import isfile\n",
    "from collections import namedtuple\n",
    "import csv"
   ]
  },
  {
   "cell_type": "code",
   "execution_count": null,
   "metadata": {},
   "outputs": [],
   "source": [
    "emoji_patt = re.compile(r\"^(?:a_?)?(n[aei]o(?:.+)|blobbee|grphn|floof|drgn|vlpn|sylveon|ying|niodog|thio|myno|wvrn)\")"
   ]
  },
  {
   "cell_type": "code",
   "execution_count": null,
   "metadata": {},
   "outputs": [],
   "source": [
    "Instance = namedtuple('Instance', ['name', 'url', 'software'])"
   ]
  },
  {
   "cell_type": "code",
   "execution_count": null,
   "metadata": {},
   "outputs": [],
   "source": [
    "def download_emoji_file(server):\n",
    "    if isfile(f\"emoji_files/{server.name}.json\"):\n",
    "        print(f\"File already exists for {server.name}\")\n",
    "        return\n",
    "\n",
    "    match(server.software):\n",
    "        case \"akkoma\":\n",
    "            request_url = f\"https://{server.url}/api/v1/pleroma/emoji\"\n",
    "        case \"misskey\":\n",
    "            request_url = f\"https://{server.url}/api/emojis\"\n",
    "        case _:\n",
    "            request_url = f\"https://{server.url}/api/v1/custom_emojis\"\n",
    "\n",
    "    with requests.get(request_url) as request:\n",
    "        if request.ok:\n",
    "            with open(f\"emoji_files/{server.name}.json\", \"wb\") as out_file:\n",
    "                out_file.write(request.content)\n",
    "            print(f\"Wrote file for {server.name}\")\n",
    "        else:\n",
    "            print(f\"Couldn't read {server.name} at {request_url}\")"
   ]
  },
  {
   "cell_type": "code",
   "execution_count": null,
   "metadata": {},
   "outputs": [],
   "source": [
    "def read_emoji(server):\n",
    "    data = {}\n",
    "    with open(f\"emoji_files/{server.name}.json\", encoding=\"utf8\") as f:\n",
    "        j = json.load(f)\n",
    "        match(server.software):\n",
    "            case \"akkoma\":\n",
    "                for key, content in j.items():\n",
    "                    if emoji_patt.match(key):\n",
    "                        data[re.sub(\"_256$\", \"\", key.lower())] = {f\"{server.name}\": content[\"image_url\"]}\n",
    "            case \"misskey\":\n",
    "                for content in j[\"emojis\"]:\n",
    "                    if emoji_patt.match(content[\"name\"]):\n",
    "                        data[re.sub(\"_256$\", \"\", content[\"name\"].lower())] = {f\"{server.name}\": content[\"url\"]}\n",
    "            case _:\n",
    "                for content in j:\n",
    "                    if emoji_patt.match(content[\"shortcode\"]):\n",
    "                        data[re.sub(\"_256$\", \"\", content[\"shortcode\"].lower())] = {\n",
    "                            f\"{server.name}\": content[\"static_url\"]\n",
    "                        }\n",
    "        return data"
   ]
  },
  {
   "cell_type": "code",
   "execution_count": null,
   "metadata": {},
   "outputs": [],
   "source": [
    "def add_instance_to_df(left_df, right_instance):\n",
    "    right = read_emoji(right_instance)\n",
    "    right_df = pd.DataFrame.from_dict(right, orient=\"index\")\n",
    "    df = left_df.merge(right_df, left_index=True, right_index=True, how=\"outer\", sort=True)\n",
    "    return df"
   ]
  },
  {
   "cell_type": "code",
   "execution_count": null,
   "metadata": {},
   "outputs": [],
   "source": [
    "def html_img_formatter(url):\n",
    "    return f\"<img src=\\\"{url}\\\" width=\\\"48\\\" />\""
   ]
  },
  {
   "cell_type": "code",
   "execution_count": null,
   "metadata": {},
   "outputs": [],
   "source": [
    "def write_report(file_name, dataframe):\n",
    "    html = \"\"\"<html>\n",
    "    <head>\n",
    "    <style>\n",
    "        #df_data thead th {\n",
    "            height: 140px;\n",
    "            white-space: nowrap;\n",
    "            padding-bottom: 0;\n",
    "            padding-top: 100px;\n",
    "        }\n",
    "        \n",
    "        #df_data thead th div {\n",
    "            transform: rotate(270deg);\n",
    "            width: 32px;\n",
    "        }\n",
    "        \n",
    "        #df_data thead th div span {\n",
    "            border-bottom: 1px solid #ccc;\n",
    "            padding: 5px 10px;\n",
    "        }\n",
    "        #df_data tbody tr th {\n",
    "            position: sticky;\n",
    "            left: 0;\n",
    "            background: #FFF;\n",
    "            text-align: left;\n",
    "            max-width: 150px;\n",
    "            overflow-wrap: break-word;\n",
    "        }\n",
    "        #df_data > thead th {\n",
    "            position: sticky;\n",
    "            top: 0;\n",
    "            background: #FFF;\n",
    "        }\n",
    "    </style>\n",
    "    </head>\n",
    "    <body>\n",
    "    \"\"\"\n",
    "    html += dataframe.to_html(\n",
    "        na_rep=\"\", \n",
    "        escape=False,\n",
    "        justify=\"left\",\n",
    "        columns=col_order,\n",
    "        table_id=\"df_data\",\n",
    "        formatters={c: html_img_formatter for c in df.columns.to_list()[1:]}\n",
    "    )\n",
    "    html += \"\"\"\n",
    "    </body>\n",
    "    \"\"\"\n",
    "    html = html.replace('<th>', '<th><div><span>')\n",
    "    html = html.replace('</th>', '</span></div></th>')\n",
    "\n",
    "    with open(f\"./reports/{file_name}.html\", \"w\") as out_file:\n",
    "        out_file.write(html)"
   ]
  },
  {
   "cell_type": "code",
   "execution_count": null,
   "metadata": {},
   "outputs": [],
   "source": [
    "instances = {}\n",
    "with open(\"sample_instances.csv\") as in_file:\n",
    "    instance_reader = csv.reader(in_file)\n",
    "    for name, url, software, enabled in instance_reader:\n",
    "        if enabled == \"True\":\n",
    "            instances[name] = Instance(name, url, software)"
   ]
  },
  {
   "cell_type": "code",
   "execution_count": null,
   "metadata": {},
   "outputs": [],
   "source": [
    "for name, inst in instances.items():\n",
    "    download_emoji_file(inst)"
   ]
  },
  {
   "cell_type": "code",
   "execution_count": null,
   "metadata": {},
   "outputs": [],
   "source": [
    "instance_iter = iter(instances.values())\n",
    "first = read_emoji(next(instance_iter))\n",
    "df = pd.DataFrame.from_dict(first, orient=\"index\")\n",
    "for instance in instance_iter:\n",
    "    try:\n",
    "        df = add_instance_to_df(df, instance)\n",
    "    except KeyError:\n",
    "        print(f\"Key error in {instance.name}\")\n",
    "    except UnicodeDecodeError:\n",
    "        print(f\"Unicode error in {instance.name}\")"
   ]
  },
  {
   "cell_type": "code",
   "execution_count": null,
   "metadata": {},
   "outputs": [],
   "source": [
    "df[\"instance_count\"] = df.notna().sum(axis=1)\n",
    "df = df[[\"instance_count\", *df.columns.to_list()[:-1]]]"
   ]
  },
  {
   "cell_type": "code",
   "execution_count": null,
   "metadata": {},
   "outputs": [],
   "source": [
    "print(df[df[\"instance_count\"]==1].notna().sum()[1:].sort_values(ascending=False))\n",
    "col_order = df[df[\"instance_count\"]==1].notna().sum()[1:].sort_values(ascending=False).index.to_list()"
   ]
  },
  {
   "cell_type": "code",
   "execution_count": null,
   "metadata": {},
   "outputs": [],
   "source": [
    "download_list = {}\n",
    "for in_file in os.scandir(\"emoji\"):\n",
    "    if in_file.is_file:\n",
    "        name = in_file.name.rsplit(\".\", 1)[0]\n",
    "        if name in df.index:\n",
    "            download_list[name] = True\n",
    "df[\"downloaded\"] = False\n",
    "df.update(pd.DataFrame.from_dict(download_list, orient=\"index\", columns=[\"downloaded\", ]))"
   ]
  },
  {
   "cell_type": "code",
   "execution_count": null,
   "metadata": {},
   "outputs": [],
   "source": [
    "write_report(\"new_2024-09-20\", df[df[\"downloaded\"]==False].sort_index())"
   ]
  },
  {
   "cell_type": "code",
   "execution_count": null,
   "metadata": {},
   "outputs": [],
   "source": []
  }
 ],
 "metadata": {
  "kernelspec": {
   "display_name": "Python 3",
   "language": "python",
   "name": "python3"
  },
  "language_info": {
   "codemirror_mode": {
    "name": "ipython",
    "version": 3
   },
   "file_extension": ".py",
   "mimetype": "text/x-python",
   "name": "python",
   "nbconvert_exporter": "python",
   "pygments_lexer": "ipython3",
   "version": "3.12.6"
  }
 },
 "nbformat": 4,
 "nbformat_minor": 2
}
